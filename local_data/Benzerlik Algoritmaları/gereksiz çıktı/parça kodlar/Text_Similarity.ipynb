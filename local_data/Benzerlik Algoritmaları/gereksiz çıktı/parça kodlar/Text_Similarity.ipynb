{
 "cells": [
  {
   "cell_type": "code",
   "execution_count": 92,
   "metadata": {},
   "outputs": [],
   "source": [
    "import pandas as pd \n",
    "import numpy as np\n",
    "import Levenshtein as lv\n",
    "import os\n",
    "import sys\n",
    "import xlsxwriter\n",
    "import re\n",
    "import openpyxl\n",
    "from openpyxl.cell.cell import ILLEGAL_CHARACTERS_RE\n"
   ]
  },
  {
   "cell_type": "code",
   "execution_count": 93,
   "metadata": {},
   "outputs": [],
   "source": [
    "dataset = pd.read_excel(r'ornek_malzeme_verisi_active - Asıl.xlsx')\n",
    "dataset1 = pd.DataFrame()\n",
    "\n",
    "\n",
    "\n",
    "#with open('ornek_malzeme_verisi_active - Asıl.xlsx', 'r', encoding='utf8', errors='ignore') as f:\n",
    "#    f.readlines()"
   ]
  },
  {
   "cell_type": "code",
   "execution_count": 94,
   "metadata": {},
   "outputs": [],
   "source": [
    "#dataset"
   ]
  },
  {
   "cell_type": "code",
   "execution_count": 100,
   "metadata": {},
   "outputs": [],
   "source": [
    "def clean_dataframe(dataset):\n",
    "    list_of_deleted_index = dataset[dataset[\"MLZ_KISA_TANIM_TR\"] == \" \"].index\n",
    "    list_of_deleted_index = list_of_deleted_index.append(dataset[dataset.MLZ_KISA_TANIM_TR.str.contains('IPTAL', na=True)].index)\n",
    "    # Lenght of deleted index = 600\n",
    "    \n",
    "    print(len(list_of_deleted_index))\n",
    "    \n",
    "    for index in list_of_deleted_index:\n",
    "        #print(index)\n",
    "        dataset = dataset.drop(index)\n",
    "        \n",
    "    dataset[\"MLZ_KISA_TANIM_TR\"] = dataset[\"MLZ_KISA_TANIM_TR\"].replace({'=':''}, regex=True)\n",
    "    #print(dataset[\"MLZ_KISA_TANIM_TR\"].describe())\n",
    "    \n",
    "    return dataset"
   ]
  },
  {
   "cell_type": "code",
   "execution_count": 101,
   "metadata": {},
   "outputs": [],
   "source": [
    "# list = dataset[dataset.MLZ_KISA_TANIM_TR.str.contains('IPTAL', na=True)].index"
   ]
  },
  {
   "cell_type": "code",
   "execution_count": 102,
   "metadata": {},
   "outputs": [],
   "source": [
    "dataset['GRUP'] = pd.Series(...)\n",
    "dataset['YUZDE'] = pd.Series(...)"
   ]
  },
  {
   "cell_type": "code",
   "execution_count": 103,
   "metadata": {},
   "outputs": [],
   "source": [
    "df1 = dataset[['MLZNO','MLZ_KISA_TANIM_TR', 'GRUP','YUZDE']]"
   ]
  },
  {
   "cell_type": "code",
   "execution_count": 104,
   "metadata": {},
   "outputs": [
    {
     "name": "stdout",
     "output_type": "stream",
     "text": [
      "612\n"
     ]
    }
   ],
   "source": [
    "df1 = clean_dataframe(df1)"
   ]
  },
  {
   "cell_type": "code",
   "execution_count": 105,
   "metadata": {},
   "outputs": [
    {
     "data": {
      "text/html": [
       "<div>\n",
       "<style scoped>\n",
       "    .dataframe tbody tr th:only-of-type {\n",
       "        vertical-align: middle;\n",
       "    }\n",
       "\n",
       "    .dataframe tbody tr th {\n",
       "        vertical-align: top;\n",
       "    }\n",
       "\n",
       "    .dataframe thead th {\n",
       "        text-align: right;\n",
       "    }\n",
       "</style>\n",
       "<table border=\"1\" class=\"dataframe\">\n",
       "  <thead>\n",
       "    <tr style=\"text-align: right;\">\n",
       "      <th></th>\n",
       "      <th>MLZNO</th>\n",
       "      <th>MLZ_KISA_TANIM_TR</th>\n",
       "      <th>GRUP</th>\n",
       "      <th>YUZDE</th>\n",
       "    </tr>\n",
       "  </thead>\n",
       "  <tbody>\n",
       "    <tr>\n",
       "      <td>1</td>\n",
       "      <td>500003</td>\n",
       "      <td>@MATKAP UCU,ELMAS,SAG HELIS,10MM.L160MM</td>\n",
       "      <td>NaN</td>\n",
       "      <td>NaN</td>\n",
       "    </tr>\n",
       "    <tr>\n",
       "      <td>3</td>\n",
       "      <td>500009</td>\n",
       "      <td>KLAVUZ KOLU</td>\n",
       "      <td>NaN</td>\n",
       "      <td>NaN</td>\n",
       "    </tr>\n",
       "    <tr>\n",
       "      <td>4</td>\n",
       "      <td>500010</td>\n",
       "      <td>KLAVUZ KOLU, AYARLI TIP, NO:1</td>\n",
       "      <td>NaN</td>\n",
       "      <td>NaN</td>\n",
       "    </tr>\n",
       "    <tr>\n",
       "      <td>5</td>\n",
       "      <td>500011</td>\n",
       "      <td>KLAVUZ KOLU, AYARLI TIP, NO:2</td>\n",
       "      <td>NaN</td>\n",
       "      <td>NaN</td>\n",
       "    </tr>\n",
       "    <tr>\n",
       "      <td>6</td>\n",
       "      <td>500012</td>\n",
       "      <td>KLAVUZ KOLU, AYARLI TIP, NO:3</td>\n",
       "      <td>NaN</td>\n",
       "      <td>NaN</td>\n",
       "    </tr>\n",
       "    <tr>\n",
       "      <td>...</td>\n",
       "      <td>...</td>\n",
       "      <td>...</td>\n",
       "      <td>...</td>\n",
       "      <td>...</td>\n",
       "    </tr>\n",
       "    <tr>\n",
       "      <td>5937</td>\n",
       "      <td>768913</td>\n",
       "      <td>SOGUK YAPISTIRICI&amp;SERTLESTIRICI, ISOLA,</td>\n",
       "      <td>NaN</td>\n",
       "      <td>NaN</td>\n",
       "    </tr>\n",
       "    <tr>\n",
       "      <td>5938</td>\n",
       "      <td>768914</td>\n",
       "      <td>SOGUK YAPISTIRICI&amp;SERTLESTIRICI, LOCTITE</td>\n",
       "      <td>NaN</td>\n",
       "      <td>NaN</td>\n",
       "    </tr>\n",
       "    <tr>\n",
       "      <td>5939</td>\n",
       "      <td>768915</td>\n",
       "      <td>AKULU DARBELI MATKAP, BOSCH, GSB 18V-EC,</td>\n",
       "      <td>NaN</td>\n",
       "      <td>NaN</td>\n",
       "    </tr>\n",
       "    <tr>\n",
       "      <td>5940</td>\n",
       "      <td>768916</td>\n",
       "      <td>AKULU SOMUN SIKMA, BOSCH, GDS 18V-EC-250</td>\n",
       "      <td>NaN</td>\n",
       "      <td>NaN</td>\n",
       "    </tr>\n",
       "    <tr>\n",
       "      <td>5941</td>\n",
       "      <td>768917</td>\n",
       "      <td>AKULU TASLAMA, BOSCH, GHG 600 CE, 2000W,</td>\n",
       "      <td>NaN</td>\n",
       "      <td>NaN</td>\n",
       "    </tr>\n",
       "  </tbody>\n",
       "</table>\n",
       "<p>5330 rows × 4 columns</p>\n",
       "</div>"
      ],
      "text/plain": [
       "       MLZNO                         MLZ_KISA_TANIM_TR GRUP YUZDE\n",
       "1     500003   @MATKAP UCU,ELMAS,SAG HELIS,10MM.L160MM  NaN   NaN\n",
       "3     500009                               KLAVUZ KOLU  NaN   NaN\n",
       "4     500010             KLAVUZ KOLU, AYARLI TIP, NO:1  NaN   NaN\n",
       "5     500011             KLAVUZ KOLU, AYARLI TIP, NO:2  NaN   NaN\n",
       "6     500012             KLAVUZ KOLU, AYARLI TIP, NO:3  NaN   NaN\n",
       "...      ...                                       ...  ...   ...\n",
       "5937  768913   SOGUK YAPISTIRICI&SERTLESTIRICI, ISOLA,  NaN   NaN\n",
       "5938  768914  SOGUK YAPISTIRICI&SERTLESTIRICI, LOCTITE  NaN   NaN\n",
       "5939  768915  AKULU DARBELI MATKAP, BOSCH, GSB 18V-EC,  NaN   NaN\n",
       "5940  768916  AKULU SOMUN SIKMA, BOSCH, GDS 18V-EC-250  NaN   NaN\n",
       "5941  768917  AKULU TASLAMA, BOSCH, GHG 600 CE, 2000W,  NaN   NaN\n",
       "\n",
       "[5330 rows x 4 columns]"
      ]
     },
     "execution_count": 105,
     "metadata": {},
     "output_type": "execute_result"
    }
   ],
   "source": [
    "df1"
   ]
  },
  {
   "cell_type": "code",
   "execution_count": 106,
   "metadata": {},
   "outputs": [],
   "source": [
    "# len(dataset)\n",
    "grup = 1\n",
    "for index1 in range(100):\n",
    "    for index2 in range(5000):\n",
    "        if index1 == index2:\n",
    "            break\n",
    "            \n",
    "        score  = lv.ratio(dataset.MLZ_KISA_TANIM_TR.iloc[index1], dataset.MLZ_KISA_TANIM_TR.iloc[index2]) * 100 \n",
    "        if score > 70:\n",
    "            df1.GRUP.iloc[index2] = grup\n",
    "            df1.YUZDE.iloc[index2] = score\n",
    "            grup += 1"
   ]
  },
  {
   "cell_type": "code",
   "execution_count": 113,
   "metadata": {},
   "outputs": [],
   "source": [
    "# print(df1[df1.MLZNO == 500022])\n",
    "# print(df1[df1.MLZNO == 500217])\n",
    "# print(df1[df1.MLZNO == 701809])\n",
    "# print(df1[df1.MLZNO == 500214])"
   ]
  },
  {
   "cell_type": "code",
   "execution_count": 45,
   "metadata": {},
   "outputs": [],
   "source": [
    "# dataset = clean_dataframe(dataset)"
   ]
  },
  {
   "cell_type": "code",
   "execution_count": 42,
   "metadata": {},
   "outputs": [],
   "source": [
    "# !conda list"
   ]
  },
  {
   "cell_type": "code",
   "execution_count": 27,
   "metadata": {},
   "outputs": [
    {
     "data": {
      "text/plain": [
       "5330"
      ]
     },
     "execution_count": 27,
     "metadata": {},
     "output_type": "execute_result"
    }
   ],
   "source": [
    "# len(dataset)"
   ]
  },
  {
   "cell_type": "code",
   "execution_count": 51,
   "metadata": {},
   "outputs": [],
   "source": [
    "path = os.path.dirname(os.path.realpath('__file__')) + \"/deneme1.xlsx\"\n",
    "df1.to_excel(path, sheet_name='Sheet_name_1')"
   ]
  },
  {
   "cell_type": "code",
   "execution_count": null,
   "metadata": {},
   "outputs": [],
   "source": []
  }
 ],
 "metadata": {
  "kernelspec": {
   "display_name": "Python 3.7.4 64-bit",
   "language": "python",
   "name": "python37464bit4c53d8443e5e40078c9714b72e8dd27d"
  },
  "language_info": {
   "codemirror_mode": {
    "name": "ipython",
    "version": 3
   },
   "file_extension": ".py",
   "mimetype": "text/x-python",
   "name": "python",
   "nbconvert_exporter": "python",
   "pygments_lexer": "ipython3",
   "version": "3.7.4"
  }
 },
 "nbformat": 4,
 "nbformat_minor": 2
}
